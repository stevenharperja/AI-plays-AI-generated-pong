{
 "cells": [
  {
   "cell_type": "code",
   "execution_count": null,
   "metadata": {},
   "outputs": [],
   "source": [
    "def sample(input,epoch,images):\n",
    "    net.eval()\n",
    "    #make only 3 images or a max of batch size\n",
    "    num_samples = min(3,batch_size)\n",
    "    sampled_images = net.forward(input[:num_samples,:,:,:])[0]\n",
    "    sampled_input = (input[:num_samples,:,:,:].clamp(-1, 1) + 1) / 2\n",
    "    sampled_input = (sampled_input * 255).type(torch.uint8)\n",
    "    sampled_truths = (images[:num_samples,:,:,:].clamp(-1, 1) + 1) / 2\n",
    "    sampled_truths = (sampled_truths * 255).type(torch.uint8)\n",
    "    assert type(sampled_images) == type(sampled_input), \"sampled image type is:{}, while input is type:{}\".format(type(sampled_images),type(sampled_input))\n",
    "    # assert sampled_images.size() == sampled_input.size(), \"sampled image size is:{}, while input size is:{}\".format(sampled_images.size(),sampled_input.size())\n",
    "\n",
    "    #print(sampled_images)\n",
    "    plot_images(sampled_images)"
   ]
  }
 ],
 "metadata": {
  "language_info": {
   "name": "python"
  }
 },
 "nbformat": 4,
 "nbformat_minor": 2
}
