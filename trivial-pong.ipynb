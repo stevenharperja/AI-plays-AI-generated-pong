{
  "cells": [
    {
      "cell_type": "code",
      "execution_count": 1,
      "metadata": {
        "colab": {
          "base_uri": "https://localhost:8080/"
        },
        "id": "-lq9gvYDqA1T",
        "outputId": "e77b1986-f0a1-4ba3-e106-5b5b27b065f4"
      },
      "outputs": [
        {
          "name": "stdout",
          "output_type": "stream",
          "text": [
            "Requirement already satisfied: torch in /home/codespace/.local/lib/python3.10/site-packages (2.2.2)\n",
            "Requirement already satisfied: filelock in /home/codespace/.local/lib/python3.10/site-packages (from torch) (3.13.3)\n",
            "Requirement already satisfied: typing-extensions>=4.8.0 in /home/codespace/.local/lib/python3.10/site-packages (from torch) (4.10.0)\n",
            "Requirement already satisfied: sympy in /home/codespace/.local/lib/python3.10/site-packages (from torch) (1.12)\n",
            "Requirement already satisfied: networkx in /home/codespace/.local/lib/python3.10/site-packages (from torch) (3.2.1)\n",
            "Requirement already satisfied: jinja2 in /home/codespace/.local/lib/python3.10/site-packages (from torch) (3.1.3)\n",
            "Requirement already satisfied: fsspec in /home/codespace/.local/lib/python3.10/site-packages (from torch) (2024.3.1)\n",
            "Requirement already satisfied: nvidia-cuda-nvrtc-cu12==12.1.105 in /home/codespace/.local/lib/python3.10/site-packages (from torch) (12.1.105)\n",
            "Requirement already satisfied: nvidia-cuda-runtime-cu12==12.1.105 in /home/codespace/.local/lib/python3.10/site-packages (from torch) (12.1.105)\n",
            "Requirement already satisfied: nvidia-cuda-cupti-cu12==12.1.105 in /home/codespace/.local/lib/python3.10/site-packages (from torch) (12.1.105)\n",
            "Requirement already satisfied: nvidia-cudnn-cu12==8.9.2.26 in /home/codespace/.local/lib/python3.10/site-packages (from torch) (8.9.2.26)\n",
            "Requirement already satisfied: nvidia-cublas-cu12==12.1.3.1 in /home/codespace/.local/lib/python3.10/site-packages (from torch) (12.1.3.1)\n",
            "Requirement already satisfied: nvidia-cufft-cu12==11.0.2.54 in /home/codespace/.local/lib/python3.10/site-packages (from torch) (11.0.2.54)\n",
            "Requirement already satisfied: nvidia-curand-cu12==10.3.2.106 in /home/codespace/.local/lib/python3.10/site-packages (from torch) (10.3.2.106)\n",
            "Requirement already satisfied: nvidia-cusolver-cu12==11.4.5.107 in /home/codespace/.local/lib/python3.10/site-packages (from torch) (11.4.5.107)\n",
            "Requirement already satisfied: nvidia-cusparse-cu12==12.1.0.106 in /home/codespace/.local/lib/python3.10/site-packages (from torch) (12.1.0.106)\n",
            "Requirement already satisfied: nvidia-nccl-cu12==2.19.3 in /home/codespace/.local/lib/python3.10/site-packages (from torch) (2.19.3)\n",
            "Requirement already satisfied: nvidia-nvtx-cu12==12.1.105 in /home/codespace/.local/lib/python3.10/site-packages (from torch) (12.1.105)\n",
            "Requirement already satisfied: triton==2.2.0 in /home/codespace/.local/lib/python3.10/site-packages (from torch) (2.2.0)\n",
            "Requirement already satisfied: nvidia-nvjitlink-cu12 in /home/codespace/.local/lib/python3.10/site-packages (from nvidia-cusolver-cu12==11.4.5.107->torch) (12.4.99)\n",
            "Requirement already satisfied: MarkupSafe>=2.0 in /home/codespace/.local/lib/python3.10/site-packages (from jinja2->torch) (2.1.5)\n",
            "Requirement already satisfied: mpmath>=0.19 in /home/codespace/.local/lib/python3.10/site-packages (from sympy->torch) (1.3.0)\n"
          ]
        }
      ],
      "source": [
        "!pip install torch"
      ]
    },
    {
      "cell_type": "code",
      "execution_count": 2,
      "metadata": {
        "id": "mZKjKkrhqA1V"
      },
      "outputs": [],
      "source": [
        "import torch\n",
        "import torch.nn as nn\n",
        "import numpy as np\n",
        "\n",
        "device = torch.device(\"cuda\" if torch.cuda.is_available() else \"cpu\")\n",
        "#device = \"cpu\""
      ]
    },
    {
      "cell_type": "code",
      "execution_count": 3,
      "metadata": {
        "colab": {
          "base_uri": "https://localhost:8080/"
        },
        "id": "pXB_s-ftr8QY",
        "outputId": "2f115f3c-d581-4f27-fb6f-1607ae005bab"
      },
      "outputs": [
        {
          "name": "stdout",
          "output_type": "stream",
          "text": [
            "Mounted at /content/drive\n"
          ]
        }
      ],
      "source": [
        "from google.colab import drive\n",
        "drive.mount('/content/drive')"
      ]
    },
    {
      "cell_type": "code",
      "execution_count": 3,
      "metadata": {
        "id": "sqvvOrV3qA1W"
      },
      "outputs": [],
      "source": [
        "save_dir = \"diffusion training data/\"\n",
        "#save_dir = '/content/drive/MyDrive/ai ai pong/'+ save_dir\n",
        "def load_transitions():\n",
        "    import os.path\n",
        "    if not os.path.isfile(save_dir + \"observations.npz\"):\n",
        "        print(\"No saved transitions found\")\n",
        "        return()\n",
        "    #its stored as a dict so grab out the single array. and 0th axis should be the number of transitions\n",
        "    observations = np.load(save_dir + \"observations.npz\")[\"arr_0\"]\n",
        "    actions = np.load(save_dir + \"actions.npz\")[\"arr_0\"]\n",
        "    rewards = np.load(save_dir + \"rewards.npz\")[\"arr_0\"]\n",
        "    dones = np.load(save_dir + \"dones.npz\")[\"arr_0\"]\n",
        "    assert(len(observations) == len(actions) == len(rewards) == len(dones))\n",
        "    print(\"loaded transitions of length\", len(observations))\n",
        "\n",
        "\n",
        "    return observations, actions, rewards, dones"
      ]
    },
    {
      "cell_type": "code",
      "execution_count": 4,
      "metadata": {
        "colab": {
          "base_uri": "https://localhost:8080/"
        },
        "id": "Ud5gl16cqA1X",
        "outputId": "9e930056-a947-41ea-92b2-af823530eb2c"
      },
      "outputs": [
        {
          "name": "stdout",
          "output_type": "stream",
          "text": [
            "loaded transitions of length 15280\n",
            "33600 1 1 1\n"
          ]
        }
      ],
      "source": [
        "observations, actions, rewards, dones = load_transitions()\n",
        "print(observations[0].size, actions[0].size, rewards[0].size, dones[0].size)"
      ]
    },
    {
      "cell_type": "code",
      "execution_count": 48,
      "metadata": {
        "id": "urQUHvSAqA1Y"
      },
      "outputs": [
        {
          "name": "stdout",
          "output_type": "stream",
          "text": [
            "(100, 3, 210, 160)\n",
            "(100, 1, 210, 160)\n",
            "(100,)\n",
            "(100,)\n"
          ]
        }
      ],
      "source": [
        "\n",
        "#change bool in dones to floats\n",
        "for i in range(len(dones)):\n",
        "    dones[i] = dones[i].astype(float)\n",
        "\n",
        "\n",
        "#create lists to organize the training data.\n",
        "inputs = []\n",
        "truths = []\n",
        "\n",
        "h = observations[0].shape[0] #height of a pong image\n",
        "w = observations[0].shape[1] #width of a pong image\n",
        "\n",
        "vector_length = observations[i].shape[1]\n",
        "\n",
        "#take 2 images as input, return one image (the model should need two input images to determine ball velocity)\n",
        "for i in range(min(len(observations)-2, 100)):\n",
        "    #expand action to a matrix the size of a pong image, and add it as a seperate channel in a tensor image later\n",
        "    act = np.broadcast_to(actions[i+1], (h,w) )\n",
        "    rew = rewards[i+2]\n",
        "    don = dones[i+2]\n",
        "\n",
        "\n",
        "    input = np.stack((observations[i], observations[i+1], act), axis=0) #put the channels together so my life is easier and the nn pays a lot of attention to act\n",
        "    truth = (observations[i+2],rew,don) #tuple of outputs\n",
        "    inputs.append(input)\n",
        "    truths.append(truth)\n",
        "\n",
        "\n",
        "#data too big, try smaller amount\n",
        "n = 100 #number of observations to use.\n",
        "inputs = inputs[:n]\n",
        "truths = truths[:n]\n",
        "\n",
        "inputs = np.stack(inputs,axis=0) # shape of (n,3,h,w)\n",
        "truths = (\n",
        "    np.expand_dims(np.stack([t[0] for t in truths],axis = 0), axis=1),#(n,1,h,w)\n",
        "    np.fromiter((t[1] for t in truths),dtype=\"float\"),#(n)\n",
        "    np.fromiter((t[2] for t in truths),dtype=\"float\")#(n)\n",
        ")\n",
        "\n",
        "print(inputs.shape) # (n,3,h,w)\n",
        "print(truths[0].shape) # (n,1,h,w)\n",
        "print(truths[1].shape) # (n,)\n",
        "print(truths[2].shape) # (n,)\n",
        "\n",
        "inputs = torch.tensor(inputs,device=device,dtype=torch.float)\n",
        "truths = (\n",
        "    torch.tensor(truths[0],device=device,dtype=torch.float),\n",
        "    torch.tensor(truths[1],device=device,dtype=torch.float),\n",
        "    torch.tensor(truths[2],device=device,dtype=torch.float)\n",
        ")"
      ]
    },
    {
      "cell_type": "code",
      "execution_count": null,
      "metadata": {
        "id": "XNnqAIvbqA1Y"
      },
      "outputs": [],
      "source": []
    },
    {
      "cell_type": "code",
      "execution_count": 91,
      "metadata": {
        "id": "FR9B9rn3qA1Z"
      },
      "outputs": [],
      "source": [
        "\n",
        "class Net(nn.Module):\n",
        "    def __init__(self, hidden_channels):\n",
        "        super(Net, self).__init__()\n",
        "        #input of (N, 3, H, W), output of (N, hidden_size, H, W)\n",
        "        self.encoder = nn.Sequential( \n",
        "            nn.Conv2d(in_channels = 3, out_channels=hidden_channels, kernel_size = 3, stride = 1, padding = 1,device=device),\n",
        "            nn.ReLU(),\n",
        "        )\n",
        "        #input of (N, hidden_channels, H, W), output of (N, 3, ?,?)\n",
        "        self.decoder = nn.Sequential(\n",
        "            nn.ConvTranspose2d(in_channels=hidden_channels, out_channels=3, kernel_size=3, stride=1, padding=1,device=device), #see https://towardsdatascience.com/understand-transposed-convolutions-and-build-your-own-transposed-convolution-layer-from-scratch-4f5d97b2967\n",
        "            nn.ReLU()\n",
        "        )\n",
        "\n",
        "    def forward(self, x):\n",
        "        #assert x.device == self.device\n",
        "        x = self.encoder(x)\n",
        "        x = self.decoder(x)\n",
        "        channels = torch.split(x,[1,1,1], dim=1) #split into the 3 channels\n",
        "        image = channels[0] #(n,1,H,W)\n",
        "        rew = torch.mean(channels[1],dim=(1,2,3)) #(n,)\n",
        "        don = torch.mean(channels[2],dim=(1,2,3)) #(n,)\n",
        "        return image,rew,don\n"
      ]
    },
    {
      "cell_type": "code",
      "execution_count": 92,
      "metadata": {},
      "outputs": [],
      "source": [
        "hidden_channels = 10 \n",
        "\n",
        "# Create an instance of the network\n",
        "net = Net(\n",
        "    hidden_channels=hidden_channels,\n",
        "    ).to(device)"
      ]
    },
    {
      "cell_type": "code",
      "execution_count": 93,
      "metadata": {
        "id": "V2Mqom-GqA1Z"
      },
      "outputs": [],
      "source": [
        "#see https://pytorch.org/tutorials/beginner/blitz/cifar10_tutorial.html\n",
        "\n",
        "# define loss function and optimizer\n",
        "import torch.optim as optim\n",
        "\n",
        "img_criterion = nn.MSELoss()\n",
        "rew_criterion = nn.MSELoss()\n",
        "don_criterion = nn.MSELoss()\n",
        "optimizer = optim.SGD(net.parameters(), lr=0.01, momentum=0.9)\n",
        "\n",
        "\n",
        "\n"
      ]
    },
    {
      "cell_type": "code",
      "execution_count": 120,
      "metadata": {},
      "outputs": [
        {
          "name": "stdout",
          "output_type": "stream",
          "text": [
            "Finished Training\n"
          ]
        }
      ],
      "source": [
        "\n",
        "for epoch in range(10):  # loop over the dataset multiple times\n",
        "\n",
        "    running_loss = 0.0\n",
        "    # get the inputs; data is a list of [inputs, labels]\n",
        "\n",
        "    # zero the parameter gradients\n",
        "    optimizer.zero_grad()\n",
        "\n",
        "    # forward + backward + optimize\n",
        "    img,r,d = net(inputs)\n",
        "    loss1 = img_criterion(img,truths[0])\n",
        "    loss2 = rew_criterion(r,truths[1])\n",
        "    loss3 = don_criterion(d,truths[2])\n",
        "    loss = loss1+loss2+loss3\n",
        "    loss.backward()\n",
        "    optimizer.step()\n",
        "\n",
        "    # print statistics\n",
        "    running_loss += loss.item()\n",
        "    if i % 2000 == 1999:    # print every 2000 mini-batches\n",
        "        print(f'[{epoch + 1}, {i + 1:5d}] loss: {running_loss / 2000:.3f}')\n",
        "        running_loss = 0.0\n",
        "\n",
        "print('Finished Training')"
      ]
    },
    {
      "cell_type": "code",
      "execution_count": 121,
      "metadata": {
        "id": "0xNQBUhaqA1a"
      },
      "outputs": [],
      "source": [
        "# from torch.utils.data import Dataset\n",
        "# from torchvision import datasets\n",
        "# from torchvision.transforms import ToTensor\n",
        "# #see https://pytorch.org/tutorials/beginner/basics/data_tutorial.html\n",
        "# class CustomImageDataset(Dataset):\n",
        "#     def __init__(self, annotations_file, img_dir, transform=None, target_transform=None):\n",
        "#         # self.img_labels = pd.read_csv(annotations_file)\n",
        "#         # self.img_dir = img_dir\n",
        "#         self.img_labels = data[1]\n",
        "#         self.transform = transform\n",
        "#         self.target_transform = target_transform\n",
        "\n",
        "#     def __len__(self):\n",
        "#         return len(self.img_labels)\n",
        "\n",
        "#     def __getitem__(self, idx):\n",
        "#         print(idx)\n",
        "#         # img_path = os.path.join(self.img_dir, self.img_labels.iloc[idx, 0])\n",
        "#         image = data[0]\n",
        "#         label = data[1]\n",
        "#         # if self.transform:\n",
        "#         #     image = self.transform(image)\n",
        "#         # if self.target_transform:\n",
        "#         #     label = self.target_transform(label)\n",
        "#         return image, label\n",
        "\n",
        "\n",
        "# batch_size = 64\n",
        "# trainset = CustomImageDataset(\"\",\"\")\n",
        "# if __name__ == '__main__':\n",
        "#     trainloader = torch.utils.data.DataLoader(trainset, batch_size=batch_size, shuffle=False)#, num_workers=1)"
      ]
    },
    {
      "cell_type": "code",
      "execution_count": 122,
      "metadata": {
        "colab": {
          "base_uri": "https://localhost:8080/",
          "height": 1000
        },
        "id": "gE6LOyB6qA1b",
        "outputId": "96ffcf67-0cf0-4de1-b906-06a4c87f10c3"
      },
      "outputs": [],
      "source": [
        "\n",
        "# for epoch in range(1):  # loop over the dataset multiple times #todo why does multiple times break it?\n",
        "\n",
        "#     running_loss = 0.0\n",
        "#     for i, data in enumerate(trainloader, 0):\n",
        "#         print(i)\n",
        "#         # get the inputs; data is a list of [inputs, labels]\n",
        "#         inputs, labels = data\n",
        "\n",
        "#         # zero the parameter gradients\n",
        "#         optimizer.zero_grad()\n",
        "\n",
        "#         # forward + backward + optimize\n",
        "#         outputs = net(inputs)\n",
        "#         loss = criterion(outputs, labels)\n",
        "#         loss.backward()\n",
        "#         optimizer.step()\n",
        "\n",
        "#         # print statistics\n",
        "#         running_loss += loss.item()\n",
        "#         if i % 2000 == 1999:    # print every 2000 mini-batches\n",
        "#             print(f'[{epoch + 1}, {i + 1:5d}] loss: {running_loss / 2000:.3f}')\n",
        "#             running_loss = 0.0\n",
        "\n",
        "# print('Finished Training')"
      ]
    },
    {
      "cell_type": "code",
      "execution_count": 123,
      "metadata": {
        "id": "KgRJ_RNBqA1b"
      },
      "outputs": [],
      "source": [
        "PATH = './models/pong_gen.pth'\n",
        "torch.save(net.state_dict(), PATH)"
      ]
    },
    {
      "cell_type": "code",
      "execution_count": 124,
      "metadata": {
        "id": "vkxLU375qA1c"
      },
      "outputs": [
        {
          "data": {
            "text/plain": [
              "<All keys matched successfully>"
            ]
          },
          "execution_count": 124,
          "metadata": {},
          "output_type": "execute_result"
        }
      ],
      "source": [
        "net = Net(hidden_channels=hidden_channels)\n",
        "net.load_state_dict(torch.load(PATH))"
      ]
    },
    {
      "cell_type": "code",
      "execution_count": 125,
      "metadata": {
        "id": "MWKouzwLqA1c"
      },
      "outputs": [
        {
          "name": "stdout",
          "output_type": "stream",
          "text": [
            "torch.Size([1, 1, 210, 160])\n"
          ]
        }
      ],
      "source": [
        "output = net(inputs[0].unsqueeze(0))[0]\n",
        "print(output.shape)"
      ]
    },
    {
      "cell_type": "code",
      "execution_count": 127,
      "metadata": {
        "id": "H3qb7meBqA1d"
      },
      "outputs": [
        {
          "data": {
            "image/jpeg": "[encoded data removed]",
            "image/png": "[encoded data removed]",
            "text/plain": [
              "<PIL.Image.Image image mode=L size=160x210>"
            ]
          },
          "metadata": {},
          "output_type": "display_data"
        },
        {
          "data": {
            "image/jpeg": "[encoded data removed]",
            "image/png": "[encoded data removed]",
            "text/plain": [
              "<PIL.Image.Image image mode=L size=160x210>"
            ]
          },
          "metadata": {},
          "output_type": "display_data"
        }
      ],
      "source": [
        "from PIL import Image\n",
        "image = Image.fromarray(observations[2])# true value\n",
        "image.show()\n",
        "\n",
        "image = Image.fromarray(output[0][0].detach().numpy())# predicted value\n",
        "image.show()"
      ]
    },
    {
      "cell_type": "code",
      "execution_count": null,
      "metadata": {
        "id": "9u9O5pKEqA1d"
      },
      "outputs": [],
      "source": [
        "gif = []\n",
        "images = [Image.fromarray(observation) for observation in observations]\n",
        "for image in images:\n",
        "    gif.append(image)\n",
        "gif[0].save('temp/result.gif', save_all=True,optimize=False, append_images=gif[1:], loop=0)"
      ]
    }
  ],
  "metadata": {
    "colab": {
      "provenance": []
    },
    "kernelspec": {
      "display_name": "Python 3",
      "language": "python",
      "name": "python3"
    },
    "language_info": {
      "codemirror_mode": {
        "name": "ipython",
        "version": 3
      },
      "file_extension": ".py",
      "mimetype": "text/x-python",
      "name": "python",
      "nbconvert_exporter": "python",
      "pygments_lexer": "ipython3",
      "version": "3.10.13"
    }
  },
  "nbformat": 4,
  "nbformat_minor": 0
}
